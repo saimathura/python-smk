{
 "cells": [
  {
   "cell_type": "markdown",
   "id": "9c0b9b07",
   "metadata": {},
   "source": [
    "### Gauss Elimination."
   ]
  },
  {
   "cell_type": "code",
   "execution_count": 61,
   "id": "52ee02af",
   "metadata": {},
   "outputs": [
    {
     "name": "stdout",
     "output_type": "stream",
     "text": [
      "[[1.0, 1.0, 1.0, 1.0, 1.0], [1.0, 1.0, 3.0, 3.0, 3.0], [1.0, 1.0, 2.0, 3.0, 3.0], [1.0, 3.0, 3.0, 3.0, 4.0]]\n",
      "[[1.0, 1.0, 1.0, 1.0, 1.0], [0.0, 1.0, 0.0, 0.0, 0.0], [0.0, 0.0, 1.0, 4.0, 4.0], [0.0, 0.0, 0.0, -2.0, -2.0]]\n",
      "-6.0\n"
     ]
    }
   ],
   "source": [
    "def list_mutiplier(a,b,n):\n",
    "    for x in range(n):\n",
    "            a[x] = a[x]*b\n",
    "def list_subtract(a,b,n):\n",
    "    for x in range(n):\n",
    "        a[x]=a[x]-b[x]\n",
    "def swap_row(a,i):\n",
    "    #print('hia')\n",
    "    flag = 0\n",
    "    for j in range(i+1,len(a)):\n",
    "        r = i+j\n",
    "        if(a[i+j][i] != 0):\n",
    "            \n",
    "            flag = 1\n",
    "            \n",
    "            break\n",
    "    if flag == 0:\n",
    "        print('No non zero elemt in this column so Singular system')\n",
    "        return\n",
    "    temp = a[i]\n",
    "    a[i] = a[r]\n",
    "    a[r] = temp\n",
    "    #print('swapped',a)\n",
    "    #print('hiaaaaaa')\n",
    "    #print(i,a)\n",
    "# take a 3x4 matrix   \n",
    "a = [[1.0, 1.0, 1.0, 1.0, 1.0],\n",
    "     [1.0, 1.0, 3.0, 3.0, 3.0],\n",
    "     [1.0, 1.0, 2.0, 3.0, 3.0],\n",
    "     [1.0, 3.0, 3.0, 3.0, 4.0]]\n",
    "k = (len(a)-1)\n",
    "e=0\n",
    "print(a)\n",
    "for i in range(len(a)):\n",
    "    \n",
    "        #print(i)\n",
    "        if(a[i][i] == 0):\n",
    "            swap_row(a,i)\n",
    "        for j in range(i+1,len(a)):\n",
    "            \n",
    "            l = a[j][i]/a[i][i]\n",
    "            \n",
    "            list_mutiplier(a[i],l,len(a[i]))\n",
    "            list_subtract(a[j],a[i],len(a[i]))        \n",
    "            a[i][i] = 1.0\n",
    "            #print(f'calculating l for {i}th row from {j}th row l = {l}','\\n\\n ',a,'\\n')\n",
    "        #print(i,j,'\\n',a)                 \n",
    "                \n",
    "print(a)   \n",
    "for i in range(len(a)):\n",
    "    k *= a[i][i]\n",
    "print(k)"
   ]
  },
  {
   "cell_type": "code",
   "execution_count": 39,
   "id": "4261fa2f",
   "metadata": {},
   "outputs": [
    {
     "name": "stdout",
     "output_type": "stream",
     "text": [
      "0\n",
      "1\n",
      "2\n",
      "3\n"
     ]
    }
   ],
   "source": [
    "\n"
   ]
  }
 ],
 "metadata": {
  "kernelspec": {
   "display_name": "Python 3 (ipykernel)",
   "language": "python",
   "name": "python3"
  },
  "language_info": {
   "codemirror_mode": {
    "name": "ipython",
    "version": 3
   },
   "file_extension": ".py",
   "mimetype": "text/x-python",
   "name": "python",
   "nbconvert_exporter": "python",
   "pygments_lexer": "ipython3",
   "version": "3.9.13"
  }
 },
 "nbformat": 4,
 "nbformat_minor": 5
}
