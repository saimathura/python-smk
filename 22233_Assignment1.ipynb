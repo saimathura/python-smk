{
 "cells": [
  {
   "cell_type": "markdown",
   "id": "1575428f",
   "metadata": {},
   "source": [
    "### Q1. program to compute the real roots of eq ax**2+bx+c          "
   ]
  },
  {
   "cell_type": "code",
   "execution_count": null,
   "id": "998954b3",
   "metadata": {},
   "outputs": [],
   "source": [
    "from math import sqrt\n",
    "def fun_disc(a,b,c):\n",
    "    \"\"\"gives the discrimant value of the a b c\n",
    "    \"\"\"\n",
    "    return (b**2)-4*a*c\n",
    "#main \n",
    "a = int(input(\"enter the co-efficient of x^2 = \"))\n",
    "b = int(input(\"enter the co-efficient of x = \"))\n",
    "c = int(input(\"enter the constant of c = \"))\n",
    "#discriminant (b²-4ac) is called disc here\n",
    "root1 = 0\n",
    "root2 = 0\n",
    "disc = fun_disc(a,b,c)\n",
    "if(disc == 0):\n",
    "    root1 = root2 = -b/(2*a)\n",
    "    print(\"root 1 = \",root1)\n",
    "    print(\"root 2 = \",root2)\n",
    "if(disc > 0):\n",
    "    root1 = (-b+sqrt(disc))/(2*a)\n",
    "    root2 = (-b-sqrt(disc))/(2*a)\n",
    "    print(\"root 1 = \",root1)\n",
    "    print(\"root 2 = \",root2)\n",
    "else:\n",
    "    print(\"It has complex roots\")"
   ]
  },
  {
   "cell_type": "markdown",
   "id": "f247f7ff",
   "metadata": {},
   "source": [
    "#### q2.Write a program to compute the probability 𝑃(𝑋=𝑥), where 𝑋∼𝐵𝑖𝑛(𝑛=10,𝑝=0.2)"
   ]
  },
  {
   "cell_type": "code",
   "execution_count": 23,
   "id": "0b222190",
   "metadata": {},
   "outputs": [
    {
     "name": "stdout",
     "output_type": "stream",
     "text": [
      "Enter the correct value of n.....:\n",
      "enter the no of bernoulli trials here:10\n",
      "Enter the p probability of success value here:0.5\n",
      "Enter x value P(X=x)~Bin(10,0.5) = 0\n",
      "P(X=0)~Bin(10,0.5) =  0.0009765625\n"
     ]
    }
   ],
   "source": [
    "import math as m\n",
    "import sys\n",
    "def bin(x,n,p):\n",
    "    \"\"\"For given n and p the function bin(n,p) gives the binomial distribution value \n",
    "    for n independent events where p is the probability of success.....\n",
    "    author:Sai mathrua krishnan\n",
    "    date:06/08/2022\"\"\"\n",
    "    if(n<0):\n",
    "        print(\"False value....\")\n",
    "        return 0\n",
    "    if(x>n):\n",
    "        return 0\n",
    "    if(p>1):\n",
    "        sys.exit(\"ERROR!!!  probability range is 0 <= p <= 1...\")\n",
    "        return \n",
    "    i = x\n",
    "    #for i in range(n+1):\n",
    "    a = ((m.factorial(n)/(m.factorial(n-i)*m.factorial(i)))*((p**i)*((1-p)**(n-i))))\n",
    "    return a\n",
    "#main\n",
    "print(\"Enter the correct value of n.....:\")\n",
    "n =  int(input(\"enter the no of bernoulli trials here:\"))\n",
    "p =  float(input(\"Enter the p probability of success value here:\"))\n",
    "x = int(input(f\"Enter x value P(X=x)~Bin({n},{p}) = \"))\n",
    "print(f\"P(X={x})~Bin({n},{p}) = \",bin(x,n,p))"
   ]
  },
  {
   "cell_type": "markdown",
   "id": "60f0c1ec",
   "metadata": {},
   "source": [
    "### Q3.\n",
    "Lets say you are running a 5 km race. Write a program that,\n",
    "\n",
    "Upon completing each 1 km asks you \"are you tired?\"\n",
    "\n",
    "If you reply \"yes\" then it should break and print \"you didn't finish the race\"\n",
    "\n",
    "If you reply \"no\" then it should continue and ask \"are you tired\" on every km\n",
    "\n",
    "If you finish all 5 km then it should print congratulations message\n"
   ]
  },
  {
   "cell_type": "code",
   "execution_count": 7,
   "id": "cf63056b",
   "metadata": {},
   "outputs": [
    {
     "name": "stdout",
     "output_type": "stream",
     "text": [
      "You are running ?Are you tired  \n",
      "\n",
      "enter your option:yes\n",
      "You lost the race...Try again next time T_T\n",
      "cya\n"
     ]
    }
   ],
   "source": [
    "#function to check if\n",
    "def fun_check(option):\n",
    "    \"\"\"it checks if the person is running or not and says if they won the mathc \n",
    "    author: sai mathura krishnan\n",
    "    date:06/07/2022\"\"\"\n",
    "    \n",
    "    \n",
    "    if(option.lower() == \"yes\"):\n",
    "        print(\"You lost the race...Try again next time T_T\")\n",
    "        return False\n",
    "    else:\n",
    "        print(\"Great!\")\n",
    "        return True\n",
    "       \n",
    "#main\n",
    "for i in range(4):\n",
    "    print(\"You are running ?Are you tired  \\n\")\n",
    "    option = input(\"enter your option:\")\n",
    "    #result has the returned value\n",
    "    result = fun_check(option)\n",
    "    if(result == False):\n",
    "        print(\"cya\")\n",
    "        break\n",
    "    else:\n",
    "        continue\n",
    "if(result != False):\n",
    "    print(\"CONGRATS! :) you have completed the 5 km race!!!\")"
   ]
  },
  {
   "cell_type": "markdown",
   "id": "18a34334",
   "metadata": {},
   "source": [
    "Q4. Write a function tip_calc(bill, party), where bill is the total cost of a meal and party is the number of people in the group. The tip should be calculated as 15% for a party strictly less than six people, 18% for a party strictly less than eight, 20% for a party less than 11, and 25% for a party 11 or more. A couple of test cases are given below.\n"
   ]
  },
  {
   "cell_type": "code",
   "execution_count": 2,
   "id": "d00cfd71",
   "metadata": {},
   "outputs": [
    {
     "name": "stdout",
     "output_type": "stream",
     "text": [
      "enter no of persons:7\n",
      "enter the bill amount:100\n",
      "The tip amount is: 18.0\n",
      "Total amount: 118.0\n"
     ]
    }
   ],
   "source": [
    "def tip_calc(bill,party):\n",
    "    \"\"\"where bill is the total cost of a meal and party is the number of people in the group. \n",
    "    The tip should be calculated as 15% for a party strictly less than six people,\n",
    "    18% for a party strictly less than eight, 20% for a party less than 11,\n",
    "    and 25% for a party 11 or more.\"\"\"\n",
    "    \n",
    "    if(party < 6):\n",
    "        return(bill*0.15)\n",
    "    if(party < 8):\n",
    "        return(bill*0.18)\n",
    "    if(party < 11):\n",
    "        return(bill*0.20)\n",
    "    else:\n",
    "        return(bill)\n",
    "      \n",
    "#main\n",
    "#p is no of persons\n",
    "p = int(input(\"enter no of persons:\"))\n",
    "#b is bill value\n",
    "b = int(input(\"enter the bill amount:\"))\n",
    "tip = tip_calc(b,p)\n",
    "print(\"The tip amount is:\",tip)\n",
    "print(\"Total amount:\",tip+b)"
   ]
  },
  {
   "cell_type": "markdown",
   "id": "744a3ffd",
   "metadata": {},
   "source": [
    "Q5. Write a function mult_operation(a,b,operation). The input argument, operation, is a string that is either 'plus', 'minus', 'mult', 'div', or 'pow', and the function should compute: a+b, a−b, a∗b, a/b, and ab for the respective values for operation. A couple of test cases are given below."
   ]
  },
  {
   "cell_type": "code",
   "execution_count": 12,
   "id": "0a72e50c",
   "metadata": {},
   "outputs": [
    {
     "name": "stdout",
     "output_type": "stream",
     "text": [
      "enter your option:(plus,minus,mult,div,pow)pow\n",
      "enter a:3\n",
      "enter b:2\n",
      "Result: 9\n"
     ]
    }
   ],
   "source": [
    "def mult_operation(a,b,operation):\n",
    "    \"\"\"a and b are integer values for given mathematical operations operation is done on a and b..\n",
    "    author:sai mathura krishnan\n",
    "    date:06-08-2022\n",
    "    \"\"\"\n",
    "    c=int(a)\n",
    "    d=int(b)\n",
    "    if(operation.lower()== \"plus\"):\n",
    "        return(c+d)\n",
    "    if(operation.lower() == \"minus\"):\n",
    "        retur(c-d)\n",
    "    if(operation.lower() == \"mult\"):\n",
    "        return(c*d)\n",
    "    if(operation.lower() == \"div\"):\n",
    "        return(c/d)        \n",
    "    if(operation.lower() == \"pow\"):    \n",
    "        return(c**d)\n",
    "    else:\n",
    "        return 0\n",
    "#main\n",
    "#op is the option given by user...\n",
    "op=input(\"enter your option:(plus,minus,mult,div,pow)\")\n",
    "a=int(input(\"enter a:\"))\n",
    "b=int(input(\"enter b:\"))\n",
    "c=mult_operation(a,b,op)\n",
    "if(c != 0):\n",
    "    print(\"Result:\",c)\n",
    "else:\n",
    "    print(\"Wrong option...\")"
   ]
  },
  {
   "cell_type": "markdown",
   "id": "06589291",
   "metadata": {},
   "source": [
    "Q6. Consider a triangle with vertices at (0,0), (1,0), and (0,1). Write a function inside_triangle(x,y) where the output is the string ‘outside’ if the point (x,y) is outside of the triangle, ‘border’ if the point is exactly on the border of the triangle, and ‘inside’ if the point is on the inside of the triangle."
   ]
  },
  {
   "cell_type": "code",
   "execution_count": 22,
   "id": "64551a3d",
   "metadata": {},
   "outputs": [
    {
     "name": "stdout",
     "output_type": "stream",
     "text": [
      "Enter your co-ordinates:\n",
      "Enter The X cordinate:0.25\n",
      "Enter The Y cordinate:0.25\n",
      "The point give(X,Y)(0.25,0.25) lies:\n",
      "Inside the Triangle...\n"
     ]
    }
   ],
   "source": [
    "def tri_check(x,y):\n",
    "    \"\"\"\n",
    "    It checks wether point (x,y) is within the given traingle or not...\n",
    "    author:Sai mathura krishnan\n",
    "    date:06-08-2022\n",
    "    \"\"\"\n",
    "    if(x+y == 1):\n",
    "        print(\"On the border...\")\n",
    "    elif((x>0 and x<1) and (y>0 and y<1)):\n",
    "        print(\"Inside the Triangle...\")\n",
    "    elif((x == 0 and (y>0 and y<1)) or (y == 0 and (x>0 and x<1))):\n",
    "        print(\"On the border...\")\n",
    "    else:\n",
    "        print(\"Outside The triangle...\")\n",
    "#main\n",
    "print(\"Enter your co-ordinates:\")\n",
    "x=float(input(\"Enter The X cordinate:\"))\n",
    "y=float(input(\"Enter The Y cordinate:\"))\n",
    "print(f\"The point give(X,Y)({x},{y}) lies:\")\n",
    "tri_check(x,y)"
   ]
  },
  {
   "cell_type": "markdown",
   "id": "837e0918",
   "metadata": {},
   "source": [
    "Q7. Write a function letter_grader(percent), where grade is the string ‘O’ if percent is greater than 80, ‘A’ if percent is greater than 70, ‘B‘ if percent is greater than 60, ‘C’ if percent is greater than 40, and ‘F’ if percent is less than 40. Grades exactly on the division should be included in the higher grade category."
   ]
  },
  {
   "cell_type": "code",
   "execution_count": 25,
   "id": "9533a044",
   "metadata": {},
   "outputs": [
    {
     "name": "stdout",
     "output_type": "stream",
     "text": [
      "enter your percent:33\n",
      "Your grade is: F :)\n"
     ]
    }
   ],
   "source": [
    "def letter_grader(percent):\n",
    "    \"\"\"where grade is the string ‘O’ if percent is greater than 80, ‘A’\n",
    "    if percent is greater than 70, ‘B‘ if percent is greater than 60, ‘C’\n",
    "    if percent is greater than 40, and ‘F’ if percent is less than 40.\n",
    "    Grades exactly on the division should be included in the higher grade category.\n",
    "    author:Sai mathura\n",
    "    date:06/06/2022\"\"\"\n",
    "    if(percent > 80):\n",
    "        return('O')\n",
    "    if(percent > 70):\n",
    "        return('A')\n",
    "    if(percent > 60):\n",
    "        return('B')\n",
    "    if(percent > 40):\n",
    "        return('C')\n",
    "    else:\n",
    "        return('F')\n",
    "#main\n",
    "a=int(input(\"enter your percent:\"))\n",
    "grade = letter_grader(a)\n",
    "print(\"Your grade is:\",grade,\":)\")\n"
   ]
  },
  {
   "cell_type": "markdown",
   "id": "7f0494b5",
   "metadata": {},
   "source": [
    "Q8. Consider a nuclear reactor whose temperature is monitored by three sensors. An alarm should go off if any two of the sensor readings disagree. Write a function nuke_alarm(s1,s2,s3) where s1, s2, and s3 are the temperature readings for sensor 1, sensor 2, and sensor 3, respectively. The output should be the string ‘alarm!’ if any two of the temperature readings disagree by strictly more than 10 degrees and ‘normal’ otherwise."
   ]
  },
  {
   "cell_type": "code",
   "execution_count": 28,
   "id": "411b1f06",
   "metadata": {},
   "outputs": [
    {
     "name": "stdout",
     "output_type": "stream",
     "text": [
      "Enter the s1 value:33\n",
      "Enter the s2 value:34\n",
      "Enter the s3 value:35\n",
      "Normal\n"
     ]
    }
   ],
   "source": [
    "def nuke_alarm(s1,s2,s3):\n",
    "    \"\"\"temperature readings for sensor 1, sensor 2, and sensor 3, respectively.\n",
    "    The output should be the string ‘alarm!’\n",
    "    author:Sai mathura\n",
    "    date:06/06/2022\n",
    "    \"\"\"\n",
    "    if((abs(s1-s2) > 10) or (abs(s2-s3) > 10 ) or (abs(s1-s3) > 10 ) ):\n",
    "        print(\"Alarm!\")\n",
    "    else:\n",
    "        print(\"Normal\")\n",
    "#main\n",
    "s1=int(input(\"Enter the s1 value:\"))\n",
    "s2=int(input(\"Enter the s2 value:\"))\n",
    "s3=int(input(\"Enter the s3 value:\"))\n",
    "nuke_alarm(s1,s2,s3)"
   ]
  },
  {
   "cell_type": "markdown",
   "id": "f4f253e7",
   "metadata": {},
   "source": [
    "Q9. Write a function n_odds(x), where 𝑥 is a one-dimensional array of floats and the output is the number of odd numbers in 𝑥.\n"
   ]
  },
  {
   "cell_type": "code",
   "execution_count": 33,
   "id": "7e0e8316",
   "metadata": {},
   "outputs": [
    {
     "name": "stdout",
     "output_type": "stream",
     "text": [
      "NOTEEE!!!:::values with decimal value are not considered as odd or even!!!\n",
      "result: 3\n"
     ]
    }
   ],
   "source": [
    "def n_odds(x):\n",
    "    n=0\n",
    "    for i in range(len(x)):\n",
    "        if(x[i] == round(x[i])):\n",
    "            if(x[i]%2 != 0):\n",
    "                n+=1\n",
    "        \n",
    "    return n\n",
    "#main\n",
    "print(\"NOTEEE!!!:::values with decimal value are not considered as odd or even!!!\")\n",
    "a = [1.2,3,4.5,5.0,2.0,3.0,3.1]\n",
    "print(\"result:\",n_odds(a))"
   ]
  },
  {
   "cell_type": "markdown",
   "id": "c3f83244",
   "metadata": {},
   "source": [
    "Q10. Write a function vol_cylinder(r,h), where 𝑟 and ℎ are the radius and height of a cylinder, respectively, and the output is a list [𝑠,𝑣] where 𝑠 and 𝑣 are the surface area and volume of the same cylinder, respectively. Recall that the surface area of a cylinder is 2π𝑟2+2π𝑟ℎ, and the volume is π𝑟2ℎ. Assume that 𝑟 and ℎ are 1 by 1 float."
   ]
  },
  {
   "cell_type": "code",
   "execution_count": 11,
   "id": "d575b429",
   "metadata": {},
   "outputs": [
    {
     "name": "stdout",
     "output_type": "stream",
     "text": [
      "please Input the radius of the cylinder:2\n",
      "Please Input the height of the cylinder:3\n",
      "The Surface area of the cylinder: 62.83185307179586\n",
      "The Volume of the Cylinder: 37.69911184307752\n"
     ]
    }
   ],
   "source": [
    "from math import pi\n",
    "def vol_cylinder(r,h):\n",
    "    \"\"\"where 𝑟 and ℎ are the radius and height of a cylinder, respectively, and the output \n",
    "    is a list [𝑠,𝑣] where 𝑠 and 𝑣 are the surface area and volume of the same cylinder, respectively. \n",
    "    author:Sai mathura krishnan\n",
    "    date:06/08/2022\"\"\"\n",
    "    a = []\n",
    "    s = (2*pi*r**2)+(2*pi*r*h)\n",
    "    v = pi*(r**2)*h\n",
    "    a.append(s)\n",
    "    a.append(v)\n",
    "    return a\n",
    "#main\n",
    "r = float(input(\"please Input the radius of the cylinder:\"))\n",
    "h = float(input(\"Please Input the height of the cylinder:\"))\n",
    "a = vol_cylinder(r,h)\n",
    "print(\"The Surface area of the cylinder:\",a[0])\n",
    "print(\"The Volume of the Cylinder:\",a[1])"
   ]
  }
 ],
 "metadata": {
  "kernelspec": {
   "display_name": "Python 3 (ipykernel)",
   "language": "python",
   "name": "python3"
  },
  "language_info": {
   "codemirror_mode": {
    "name": "ipython",
    "version": 3
   },
   "file_extension": ".py",
   "mimetype": "text/x-python",
   "name": "python",
   "nbconvert_exporter": "python",
   "pygments_lexer": "ipython3",
   "version": "3.9.12"
  }
 },
 "nbformat": 4,
 "nbformat_minor": 5
}
